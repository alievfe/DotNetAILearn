{
 "cells": [
  {
   "cell_type": "code",
   "execution_count": null,
   "metadata": {
    "dotnet_interactive": {
     "language": "csharp"
    },
    "polyglot_notebook": {
     "kernelName": "csharp"
    }
   },
   "outputs": [
    {
     "data": {
      "text/html": [
       "<div><div></div><div></div><div><strong>Installed Packages</strong><ul><li><span>Microsoft.Extensions.Configuration.Json, 9.0.0</span></li><li><span>Microsoft.SemanticKernel, 1.32.0</span></li></ul></div></div>"
      ]
     },
     "metadata": {},
     "output_type": "display_data"
    },
    {
     "ename": "Error",
     "evalue": "System.IO.FileNotFoundException: The configuration file './tmpsecrets.json' was not found and is not optional. The expected physical path was 'D:\\data\\.nuget\\packages\\microsoft.dotnet-interactive\\1.0.556801\\tools\\net8.0\\any\\tmpsecrets.json'.\r\n   at Microsoft.Extensions.Configuration.FileConfigurationProvider.HandleException(ExceptionDispatchInfo info)\r\n   at Microsoft.Extensions.Configuration.FileConfigurationProvider.Load(Boolean reload)\r\n   at Microsoft.Extensions.Configuration.FileConfigurationProvider.Load()\r\n   at Microsoft.Extensions.Configuration.ConfigurationRoot..ctor(IList`1 providers)\r\n   at Microsoft.Extensions.Configuration.ConfigurationBuilder.Build()\r\n   at Submission#11.<<Initialize>>d__0.MoveNext()\r\n--- End of stack trace from previous location ---\r\n   at Microsoft.CodeAnalysis.Scripting.ScriptExecutionState.RunSubmissionsAsync[TResult](ImmutableArray`1 precedingExecutors, Func`2 currentExecutor, StrongBox`1 exceptionHolderOpt, Func`2 catchExceptionOpt, CancellationToken cancellationToken)",
     "output_type": "error",
     "traceback": [
      "System.IO.FileNotFoundException: The configuration file './tmpsecrets.json' was not found and is not optional. The expected physical path was 'D:\\data\\.nuget\\packages\\microsoft.dotnet-interactive\\1.0.556801\\tools\\net8.0\\any\\tmpsecrets.json'.\r\n",
      "   at Microsoft.Extensions.Configuration.FileConfigurationProvider.HandleException(ExceptionDispatchInfo info)\r\n",
      "   at Microsoft.Extensions.Configuration.FileConfigurationProvider.Load(Boolean reload)\r\n",
      "   at Microsoft.Extensions.Configuration.FileConfigurationProvider.Load()\r\n",
      "   at Microsoft.Extensions.Configuration.ConfigurationRoot..ctor(IList`1 providers)\r\n",
      "   at Microsoft.Extensions.Configuration.ConfigurationBuilder.Build()\r\n",
      "   at Submission#11.<<Initialize>>d__0.MoveNext()\r\n",
      "--- End of stack trace from previous location ---\r\n",
      "   at Microsoft.CodeAnalysis.Scripting.ScriptExecutionState.RunSubmissionsAsync[TResult](ImmutableArray`1 precedingExecutors, Func`2 currentExecutor, StrongBox`1 exceptionHolderOpt, Func`2 catchExceptionOpt, CancellationToken cancellationToken)"
     ]
    }
   ],
   "source": [
    "#r \"nuget: Microsoft.SemanticKernel\"\n",
    "\n",
    "#pragma warning disable SKEXP0010\n",
    "using Microsoft.SemanticKernel;\n",
    "// create Kernel\n",
    "\n",
    "var kernel = Kernel\n",
    "    .CreateBuilder()\n",
    "    .AddOpenAIChatCompletion(modelId: modelId, apiKey: apiKey, endpoint: endpoint)\n",
    "    .Build();\n",
    "\n",
    "// 用户输入\n",
    "var request = \"I want to send an email to the marketing team celebrating their recent milestone\";\n",
    "\n",
    "// create prompt\n",
    "var prompt = \"这个请求的意图是什么？{{$request}}\"; \n",
    "\n",
    "// Create a kernel arguments object and add the request\n",
    "var ka = new KernelArguments { { nameof(request), request } };\n",
    "\n",
    "// output\n",
    "await foreach (var streamingKernelContent in kernel.InvokePromptStreamingAsync(prompt, ka))\n",
    "{\n",
    "    Console.WriteLine(streamingKernelContent);\n",
    "}"
   ]
  }
 ],
 "metadata": {
  "kernelspec": {
   "display_name": ".NET (C#)",
   "language": "C#",
   "name": ".net-csharp"
  },
  "polyglot_notebook": {
   "kernelInfo": {
    "defaultKernelName": "csharp",
    "items": [
     {
      "aliases": [],
      "languageName": "csharp",
      "name": "csharp"
     }
    ]
   }
  }
 },
 "nbformat": 4,
 "nbformat_minor": 2
}
